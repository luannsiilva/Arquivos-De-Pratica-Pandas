{
 "cells": [
  {
   "cell_type": "markdown",
   "id": "b597f1ac-90d1-418d-8c98-b5ab06139389",
   "metadata": {},
   "source": [
    "### Importação da Biblioteca Pandas"
   ]
  },
  {
   "cell_type": "code",
   "execution_count": 1,
   "id": "2b76b1a6-059c-478a-baf9-74c69bb831eb",
   "metadata": {},
   "outputs": [],
   "source": [
    "import pandas as pd"
   ]
  },
  {
   "cell_type": "markdown",
   "id": "51a241b0-f7b4-46f0-848b-bc680ede0149",
   "metadata": {},
   "source": [
    "### Lendo o Arquivo dentro da mesma pasta"
   ]
  },
  {
   "cell_type": "code",
   "execution_count": 16,
   "id": "40522cae-4f36-4129-b4da-97bc2967385e",
   "metadata": {},
   "outputs": [],
   "source": [
    "vendas_df = pd.read_csv('Contoso - Vendas - 2017.csv', sep=\";\") # SEP=\";\" Utilizado para informar o separador do arquivo ao Pandas"
   ]
  }
 ],
 "metadata": {
  "kernelspec": {
   "display_name": "Python [conda env:base] *",
   "language": "python",
   "name": "conda-base-py"
  },
  "language_info": {
   "codemirror_mode": {
    "name": "ipython",
    "version": 3
   },
   "file_extension": ".py",
   "mimetype": "text/x-python",
   "name": "python",
   "nbconvert_exporter": "python",
   "pygments_lexer": "ipython3",
   "version": "3.12.7"
  }
 },
 "nbformat": 4,
 "nbformat_minor": 5
}
